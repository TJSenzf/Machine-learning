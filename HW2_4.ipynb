{
  "nbformat": 4,
  "nbformat_minor": 0,
  "metadata": {
    "colab": {
      "provenance": [],
      "collapsed_sections": [],
      "include_colab_link": true
    },
    "kernelspec": {
      "name": "python3",
      "display_name": "Python 3"
    },
    "language_info": {
      "name": "python"
    }
  },
  "cells": [
    {
      "cell_type": "markdown",
      "metadata": {
        "id": "view-in-github",
        "colab_type": "text"
      },
      "source": [
        "<a href=\"https://colab.research.google.com/github/TJSenzf/Machine-learning/blob/main/HW2_4.ipynb\" target=\"_parent\"><img src=\"https://colab.research.google.com/assets/colab-badge.svg\" alt=\"Open In Colab\"/></a>"
      ]
    },
    {
      "cell_type": "markdown",
      "metadata": {
        "id": "TZJF-lUWcxsY"
      },
      "source": [
        "### **Problem Description**\n",
        "Please modify the learning algorithm code in the class and report the bias and variance."
      ]
    },
    {
      "cell_type": "code",
      "metadata": {
        "id": "5W2-E_-7b6zl"
      },
      "source": [
        "import numpy as np\n",
        "from scipy import stats\n",
        "def gen_sindata(n=2):\n",
        "    x = stats.uniform(-1,2) # define random variable\n",
        "    v = x.rvs((n,1)) # generate sample\n",
        "    y = np.sin(np.pi*v) # use sample for sine\n",
        "    return (v,y)"
      ],
      "execution_count": null,
      "outputs": []
    },
    {
      "cell_type": "code",
      "source": [
        "# modify output function to compute bias and variation\n",
        "from sklearn.linear_model import LinearRegression\n",
        "import typing\n",
        "def output()->typing.Tuple[float,float]:\n",
        "  lr = LinearRegression(fit_intercept=False)\n",
        "  cnt = 100000\n",
        "  a_out=[] # output container\n",
        "  for i in range(cnt):\n",
        "      X, y = gen_sindata(100)\n",
        "      lr.fit(X,y)\n",
        "      y_pred = lr.predict(xi.reshape(-1,1))\n",
        "      a_out.append(lr.coef_[0,0])\n",
        "  a_bar = np.mean(a_out) # approx 1.43\n",
        "  a_var = np.var(a_out) # approx 0.71\n",
        "  bias = 0\n",
        "  var = 0\n",
        "  x = np.random.uniform(-1, 2, size = cnt)\n",
        "  for i in range(cnt):\n",
        "      bias += (a_bar*x[i] - np.sin(np.pi*x[i]))**2\n",
        "      var += a_var * x[i] * x[i]\n",
        "  bias = bias / cnt # approx 2.84\n",
        "  var = var / cnt # approx 0.71 \n",
        "  return (bias,var)"
      ],
      "metadata": {
        "id": "IBp8FgKqX5CZ"
      },
      "execution_count": null,
      "outputs": []
    },
    {
      "cell_type": "code",
      "source": [
        "bias,var=output()\n"
      ],
      "metadata": {
        "id": "cHLki3bWiOGL"
      },
      "execution_count": null,
      "outputs": []
    },
    {
      "cell_type": "code",
      "source": [
        "print(bias)\n",
        "print(var)jable"
      ],
      "metadata": {
        "colab": {
          "base_uri": "https://localhost:8080/"
        },
        "id": "R9fv6nNgiWs4",
        "outputId": "16b6bc72-ac71-48c4-ed4c-e454718bab90"
      },
      "execution_count": null,
      "outputs": [
        {
          "output_type": "stream",
          "name": "stdout",
          "text": [
            "1.6343605671368155\n",
            "0.00800525594572349\n"
          ]
        }
      ]
    },
    {
      "cell_type": "code",
      "metadata": {
        "colab": {
          "base_uri": "https://localhost:8080/"
        },
        "id": "stabAMY0ccMS",
        "outputId": "c06e6a44-4b3a-48e3-f0d4-f542af91d758"
      },
      "source": [
        "from sklearn.linear_model import LinearRegression\n",
        "lr = LinearRegression(fit_intercept=False)\n",
        "X, y = gen_sindata(2)\n",
        "lr.fit(X,y)\n",
        "lr.coef_"
      ],
      "execution_count": null,
      "outputs": [
        {
          "output_type": "execute_result",
          "data": {
            "text/plain": [
              "array([[1.91478859]])"
            ]
          },
          "metadata": {},
          "execution_count": 3
        }
      ]
    },
    {
      "cell_type": "code",
      "metadata": {
        "colab": {
          "base_uri": "https://localhost:8080/",
          "height": 301
        },
        "id": "SXUKESQaceIu",
        "outputId": "b2fb6ad8-546f-43f2-f46d-fca4e34d66a5"
      },
      "source": [
        "%matplotlib inline\n",
        "import matplotlib.pyplot as plt\n",
        "xi= np.linspace(-1,1,50)\n",
        "yi= np.sin(np.pi*xi)\n",
        "y_pred = lr.predict(xi.reshape(-1,1))\n",
        "\n",
        "plt.plot(xi, yi,'--k',label='target')\n",
        "plt.plot(X, y, 'o')\n",
        "plt.plot(xi, y_pred, c='k', label='best fit')\n",
        "plt.legend(loc='best')\n",
        "plt.title('$a=%3.3g$'%(lr.coef_),fontsize=16)"
      ],
      "execution_count": null,
      "outputs": [
        {
          "output_type": "execute_result",
          "data": {
            "text/plain": [
              "Text(0.5, 1.0, '$a=1.91$')"
            ]
          },
          "metadata": {},
          "execution_count": 4
        },
        {
          "output_type": "display_data",
          "data": {
            "text/plain": [
              "<Figure size 432x288 with 1 Axes>"
            ],
            "image/png": "[encoded data removed]"
          },
          "metadata": {
            "needs_background": "light"
          }
        }
      ]
    },
    {
      "cell_type": "code",
      "metadata": {
        "id": "88LkhO9fchnL"
      },
      "source": [
        "cnt = 100000\n",
        "a_out=[] # output container\n",
        "for i in range(cnt):\n",
        "    X, y = gen_sindata(2)\n",
        "    lr.fit(X,y)\n",
        "    y_pred = lr.predict(xi.reshape(-1,1))\n",
        "    a_out.append(lr.coef_[0,0])\n",
        "a_bar = np.mean(a_out) # approx 1.43\n",
        "a_var = np.var(a_out) # approx 0.71"
      ],
      "execution_count": null,
      "outputs": []
    },
    {
      "cell_type": "code",
      "metadata": {
        "id": "8rbxsqNxcjm-",
        "colab": {
          "base_uri": "https://localhost:8080/"
        },
        "outputId": "5dcff7d6-41da-4594-a34e-96aa49c81916"
      },
      "source": [
        "print (a_bar, a_var)"
      ],
      "execution_count": null,
      "outputs": [
        {
          "output_type": "stream",
          "name": "stdout",
          "text": [
            "1.4275475076131072 0.712462871720483\n"
          ]
        }
      ]
    },
    {
      "cell_type": "code",
      "metadata": {
        "id": "kMaeLz7LclIU",
        "colab": {
          "base_uri": "https://localhost:8080/"
        },
        "outputId": "5ebc9f7a-4297-43b6-b7b6-46943f9cd640"
      },
      "source": [
        "# confirm the variance\n",
        "vsum = 0\n",
        "for i in range(cnt):\n",
        "    vsum += (a_out[i] - a_bar) ** 2\n",
        "a_var2 = vsum / cnt\n",
        "print (a_var2)"
      ],
      "execution_count": null,
      "outputs": [
        {
          "output_type": "stream",
          "name": "stdout",
          "text": [
            "0.720108630317806\n"
          ]
        }
      ]
    },
    {
      "cell_type": "code",
      "metadata": {
        "id": "B85ntaupcm_O",
        "colab": {
          "base_uri": "https://localhost:8080/",
          "height": 322
        },
        "outputId": "1453d807-41fc-4fde-a45f-881ca59a4dac"
      },
      "source": [
        "xi= np.linspace(-1,1,50)\n",
        "yi= np.sin(np.pi*xi)\n",
        "\n",
        "plt.plot(xi,(a_bar*xi-yi)**2,'--k',label='bias(x)')\n",
        "plt.plot(xi,(a_var)*(xi)**2,':k',label='var(x)')\n",
        "plt.plot(xi,((a_bar*xi-yi)**2 + a_var*(xi)**2),'-k',lw = 4, label='Error(x)')\n",
        "plt.legend(loc='best')\n",
        "plt.xlabel('x', fontsize=18)\n",
        "plt.ylabel('Error',fontsize=16)\n",
        "plt.title('$a_{bar}=%3.3g$, $a_{var}=%3.3g$'%(a_bar,a_var),fontsize=16)"
      ],
      "execution_count": null,
      "outputs": [
        {
          "output_type": "execute_result",
          "data": {
            "text/plain": [
              "Text(0.5, 1.0, '$a_{bar}=1.48$, $a_{var}=0.72$')"
            ]
          },
          "metadata": {},
          "execution_count": 30
        },
        {
          "output_type": "display_data",
          "data": {
            "image/png": "[encoded data removed]",
            "text/plain": [
              "<Figure size 432x288 with 1 Axes>"
            ]
          },
          "metadata": {
            "needs_background": "light"
          }
        }
      ]
    },
    {
      "cell_type": "code",
      "metadata": {
        "id": "kes0c7HXcoZa",
        "colab": {
          "base_uri": "https://localhost:8080/"
        },
        "outputId": "d80cc5c8-57ad-4ba2-e81b-c4a9771117c4"
      },
      "source": [
        "# compute bias and variance\n",
        "cnt = 100000\n",
        "bias = 0\n",
        "var = 0\n",
        "x = np.random.uniform(-1, 2, size = cnt)\n",
        "for i in range(cnt):\n",
        "    bias += (a_bar*x[i] - np.sin(np.pi*x[i]))**2\n",
        "    var += a_var * x[i] * x[i]\n",
        "bias = bias / cnt # approx 2.84\n",
        "var = var / cnt # approx 0.71\n",
        "print(bias, var)"
      ],
      "execution_count": null,
      "outputs": [
        {
          "output_type": "stream",
          "name": "stdout",
          "text": [
            "2.8551001742969517 0.7140738720891354\n"
          ]
        }
      ]
    }
  ]
}